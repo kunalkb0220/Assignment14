{
 "cells": [
  {
   "cell_type": "code",
   "execution_count": null,
   "id": "5ac1f609",
   "metadata": {},
   "outputs": [],
   "source": [
    "1. What does RGBA stand for?\n",
    "\n",
    "RGBA(Red-Green-Blue-Alpha)\n",
    "The RGB color model is extended in this specification to include “alpha” to allow specification of the opacity of a color.\n"
   ]
  },
  {
   "cell_type": "code",
   "execution_count": null,
   "id": "69812abe",
   "metadata": {},
   "outputs": [],
   "source": [
    "2. From the Pillow module, how do you get the RGBA value of any images?\n",
    "\n",
    "import the Image module from the Pillow library. from PIL import Image.\n",
    "Open any image and get the RAGBAG values. img = Image.open('image.png') rgba = img.convert(“RGBA”)\n",
    "Change the color. Data will be an Imaging Core object containing thousands of tuples of RGBA values.\n",
    "Store the changed image.\n"
   ]
  },
  {
   "cell_type": "code",
   "execution_count": null,
   "id": "34dded91",
   "metadata": {},
   "outputs": [],
   "source": [
    "3. What is a box tuple, and how does it work?\n",
    "\n",
    "The box. tuple submodule provides read-only access for the tuple userdata type. \n",
    "It allows, for a single tuple: selective retrieval of the field contents, retrieval of information about size, \n",
    "iteration over all the fields, and conversion to a Lua table.\n"
   ]
  },
  {
   "cell_type": "code",
   "execution_count": null,
   "id": "88558618",
   "metadata": {},
   "outputs": [],
   "source": [
    "4. Use your image and load in notebook then, How can you find out the width and height of an Image object?\n",
    "\n",
    "from PIL import Image\n",
    "filepath = \"IMG_3421.HEIC\"\n",
    "img = Image.open(filepath)\n",
    "  \n",
    "width = img.width\n",
    "height = img.height\n",
    "  \n",
    "print(\"The height of the image is: \", height)\n",
    "print(\"The width of the image is: \", width)\n"
   ]
  },
  {
   "cell_type": "code",
   "execution_count": null,
   "id": "b5d9d928",
   "metadata": {},
   "outputs": [],
   "source": [
    "5. What method would you call to get Image object for a 100×100 image, excluding the lower-left quarter of it?\n",
    "\n"
   ]
  },
  {
   "cell_type": "code",
   "execution_count": null,
   "id": "edbde745",
   "metadata": {},
   "outputs": [],
   "source": [
    "6. After making changes to an Image object, how could you save it as an image file?\n",
    "\n",
    "To save images, we can use the PIL. save() function. This function is used to export an image to an external file. \n",
    "But to use this function, first, we should have an object which contains an image.\n"
   ]
  },
  {
   "cell_type": "code",
   "execution_count": null,
   "id": "d40ead2f",
   "metadata": {},
   "outputs": [],
   "source": [
    "7. What module contains Pillow’s shape-drawing code?\n",
    "\n",
    "The 'ImageDraw' module provides simple 2D graphics support for Image Object. \n",
    "Generally, we use this module to create new images,annotate or retouch existing images and to generate graphics on the fly \n",
    "for web use. The graphics commands support the drawing of shapes and annotation of text.\n"
   ]
  },
  {
   "cell_type": "code",
   "execution_count": null,
   "id": "c2b6943d",
   "metadata": {},
   "outputs": [],
   "source": [
    "8. Image objects do not have drawing methods. What kind of object does? How do you get this kind of object?\n",
    "\n",
    "Python’s Pillow which is a fork of the discontinued Python Imaging Library (PIL) is a powerful library that is capable of adding image processing capabilities to your python code.\n",
    "Pillow offers many modules that ease the process of working and modifying images.\n"
   ]
  }
 ],
 "metadata": {
  "kernelspec": {
   "display_name": "Python 3",
   "language": "python",
   "name": "python3"
  },
  "language_info": {
   "codemirror_mode": {
    "name": "ipython",
    "version": 3
   },
   "file_extension": ".py",
   "mimetype": "text/x-python",
   "name": "python",
   "nbconvert_exporter": "python",
   "pygments_lexer": "ipython3",
   "version": "3.8.8"
  }
 },
 "nbformat": 4,
 "nbformat_minor": 5
}
